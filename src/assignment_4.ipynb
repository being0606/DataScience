{
 "cells": [
  {
   "cell_type": "code",
   "execution_count": 2,
   "metadata": {},
   "outputs": [
    {
     "name": "stdout",
     "output_type": "stream",
     "text": [
      "res1 : [[2.0, 4.0, 6.0], [8.0, 10.0, 12.0], [14.0, 16.0, 18.0]]\n",
      "res2 : [[0.0, 0.0], [0.0, 0.0]]\n"
     ]
    }
   ],
   "source": [
    "# 하나의 Matrix에 스칼라 값을 곱하는 Mscal 함수\n",
    "def Mscal(X: list, c: float) -> list:\n",
    "    # 행렬의 각 원소에 스칼라 값 c를 곱함\n",
    "    return [[c * X[i][j] for j in range(len(X[0]))] for i in range(len(X))]\n",
    "\n",
    "\n",
    "\n",
    "\n",
    "# --------------------------------------- 예제 (1) ---------------------------------------\n",
    "A = [[1, 2, 3], [4, 5, 6], [7, 8, 9]]\n",
    "c = 2.0\n",
    "\n",
    "print(\"res1 : \", end=\"\")\n",
    "print(Mscal(A, c))  # [[2.0, 4.0, 6.0], [8.0, 10.0, 12.0], [14.0, 16.0, 18.0]]\n",
    "# ---------------------------------------------------------------------------------------\n",
    "\n",
    "\n",
    "\n",
    "\n",
    "# --------------------------------------- 예제 (2) ----------------------------------------\n",
    "B = [[1, 2], [3, 4]]\n",
    "d = 0.0\n",
    "\n",
    "print(\"res2 : \", end=\"\")\n",
    "print(Mscal(B, d))  # [[0.0, 0.0], [0.0, 0.0]]\n",
    "# ----------------------------------------------------------------------------------------"
   ]
  },
  {
   "cell_type": "code",
   "execution_count": null,
   "metadata": {},
   "outputs": [],
   "source": []
  }
 ],
 "metadata": {
  "kernelspec": {
   "display_name": "Python 3",
   "language": "python",
   "name": "python3"
  },
  "language_info": {
   "codemirror_mode": {
    "name": "ipython",
    "version": 3
   },
   "file_extension": ".py",
   "mimetype": "text/x-python",
   "name": "python",
   "nbconvert_exporter": "python",
   "pygments_lexer": "ipython3",
   "version": "3.10.14"
  }
 },
 "nbformat": 4,
 "nbformat_minor": 2
}
