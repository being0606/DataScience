{
 "cells": [
  {
   "cell_type": "code",
   "execution_count": 1,
   "metadata": {},
   "outputs": [
    {
     "name": "stdout",
     "output_type": "stream",
     "text": [
      "res1 : [[2, 2, 3], [4, 6, 6], [7, 8, 10]]\n",
      "res2 : 두 행렬의 크기가 같아야 합니다.\n"
     ]
    }
   ],
   "source": [
    "# 두 개의 동일한 크기의 Matrix를 더하는 Madd 함수를 구현하라.\n",
    "def Madd(X: list, Y: list) -> list:\n",
    "    # assert를 사용하여 행렬의 크기가 동일한지 검사\n",
    "    assert len(X) == len(Y) and all(len(rowX) == len(rowY) for rowX, rowY in zip(X, Y)), \"두 행렬의 크기가 같아야 합니다.\"\n",
    "    \n",
    "    # 두 행렬의 원소를 더한 결과 반환\n",
    "    return [[X[i][j] + Y[i][j] for j in range(len(X[0]))] for i in range(len(X))]\n",
    "\n",
    "\n",
    "\n",
    "\n",
    "# --------------------------------------- 예제 (1) ---------------------------------------\n",
    "A = [[1, 2, 3], [4, 5, 6], [7, 8, 9]]\n",
    "B = [[1, 0, 0], [0, 1, 0], [0, 0, 1]]\n",
    "\n",
    "try:\n",
    "    print(\"res1 : \", end=\"\")\n",
    "    print(Madd(A, B))\n",
    "except AssertionError as e:\n",
    "    print(e)  # \"두 행렬의 크기가 같아야 합니다.\"\n",
    "# ---------------------------------------------------------------------------------------\n",
    "\n",
    "\n",
    "\n",
    "\n",
    "# --------------------------------------- 예제 (2) ---------------------------------------\n",
    "C = [[1, 2], [3, 4]]\n",
    "D = [[1, 2, 3], [4, 5, 6]]\n",
    "\n",
    "try:\n",
    "    print(\"res2 : \", end=\"\")\n",
    "    print(Madd(C, D))\n",
    "except AssertionError as e:\n",
    "    print(e)  # \"두 행렬의 크기가 같아야 합니다.\"\n",
    "# ---------------------------------------------------------------------------------------"
   ]
  },
  {
   "cell_type": "code",
   "execution_count": null,
   "metadata": {},
   "outputs": [],
   "source": []
  }
 ],
 "metadata": {
  "kernelspec": {
   "display_name": "Python 3",
   "language": "python",
   "name": "python3"
  },
  "language_info": {
   "codemirror_mode": {
    "name": "ipython",
    "version": 3
   },
   "file_extension": ".py",
   "mimetype": "text/x-python",
   "name": "python",
   "nbconvert_exporter": "python",
   "pygments_lexer": "ipython3",
   "version": "3.10.14"
  }
 },
 "nbformat": 4,
 "nbformat_minor": 2
}
